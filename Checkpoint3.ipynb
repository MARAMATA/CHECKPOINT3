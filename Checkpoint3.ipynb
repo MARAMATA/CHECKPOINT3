{
 "cells": [
  {
   "cell_type": "markdown",
   "id": "a4ca4c8d",
   "metadata": {},
   "source": [
    "# QUESTION1"
   ]
  },
  {
   "cell_type": "code",
   "execution_count": 3,
   "id": "10d46366",
   "metadata": {},
   "outputs": [
    {
     "data": {
      "text/plain": [
       "35"
      ]
     },
     "execution_count": 3,
     "metadata": {},
     "output_type": "execute_result"
    }
   ],
   "source": [
    "def max(a,b,c):\n",
    "    if a >= b and a >= c:\n",
    "        return a\n",
    "    elif b >= a and b >= c:\n",
    "        return b\n",
    "    else:\n",
    "        return c\n",
    "    \n",
    "max(20, 35, 19)\n",
    "    "
   ]
  },
  {
   "cell_type": "markdown",
   "id": "7fea928d",
   "metadata": {},
   "source": [
    "# QUESTION2"
   ]
  },
  {
   "cell_type": "code",
   "execution_count": 6,
   "id": "197addf6",
   "metadata": {},
   "outputs": [
    {
     "data": {
      "text/plain": [
       "(50, 30)"
      ]
     },
     "execution_count": 6,
     "metadata": {},
     "output_type": "execute_result"
    }
   ],
   "source": [
    "def calcul(a, b):\n",
    "    addition = a + b\n",
    "    soustraction = a - b\n",
    "    return addition, soustraction\n",
    "calcul(40, 10)"
   ]
  },
  {
   "cell_type": "markdown",
   "id": "33b5be91",
   "metadata": {},
   "source": [
    "# QUESTION3"
   ]
  },
  {
   "cell_type": "code",
   "execution_count": 11,
   "id": "bbc484f8",
   "metadata": {},
   "outputs": [
    {
     "data": {
      "text/plain": [
       "2940"
      ]
     },
     "execution_count": 11,
     "metadata": {},
     "output_type": "execute_result"
    }
   ],
   "source": [
    "def somme(liste):\n",
    "    return sum(liste)\n",
    "def produit(liste):\n",
    "    produit = 1\n",
    "    for element in liste:\n",
    "        produit *= element\n",
    "    return produit\n",
    "\n",
    "def operation(liste):\n",
    "    somme_pair = sum(liste[::2]) #utilisation du slicing pour recuperer les elements pairs\n",
    "    produit_impair = produit(liste[1::2]) #utilisation du slicing pour recuperer les elements impairs \n",
    "    \n",
    "    return somme_pair * produit_impair\n",
    "\n",
    "ma_liste = [3, 5, 2, 7, 8, 6 ,1]\n",
    "\n",
    "operation(ma_liste)"
   ]
  },
  {
   "cell_type": "markdown",
   "id": "f0d22746",
   "metadata": {},
   "source": [
    "# QUESTION4"
   ]
  },
  {
   "cell_type": "code",
   "execution_count": 12,
   "id": "d3ebe0f7",
   "metadata": {},
   "outputs": [
    {
     "name": "stdout",
     "output_type": "stream",
     "text": [
      "VVV\n"
     ]
    }
   ],
   "source": [
    "def Maj(dictionnaire):\n",
    "    resultat = \"\"\n",
    "    for valeur in dictionnaire.values():\n",
    "        resultat += valeur[0].upper()\n",
    "    return resultat\n",
    "dictionnaire = {\"cle1\": \"valeur1\", \"cle2\": \"valeur2\", \"cle3\": \"valeur3\"}\n",
    "print(Maj(dictionnaire)) "
   ]
  },
  {
   "cell_type": "markdown",
   "id": "161dfb06",
   "metadata": {},
   "source": [
    "# QUESTION5"
   ]
  },
  {
   "cell_type": "code",
   "execution_count": 13,
   "id": "63f90f05",
   "metadata": {},
   "outputs": [
    {
     "name": "stdout",
     "output_type": "stream",
     "text": [
      "mottreslong\n"
     ]
    }
   ],
   "source": [
    "def plus_grand_mot(dictionnaire):\n",
    "    plus_grand = \"\"\n",
    "    for mot in dictionnaire:\n",
    "        if len(mot) > len(plus_grand):\n",
    "            plus_grand = mot\n",
    "    return plus_grand\n",
    "dictionnaire = {\"mot1\": \"valeur1\", \"mot2\": \"valeur2\", \"mottreslong\": \"valeur3\"}\n",
    "print(plus_grand_mot(dictionnaire)) "
   ]
  },
  {
   "cell_type": "markdown",
   "id": "b629ddea",
   "metadata": {},
   "source": [
    "# QUESTION6"
   ]
  },
  {
   "cell_type": "code",
   "execution_count": 14,
   "id": "a51a0b6e",
   "metadata": {},
   "outputs": [
    {
     "name": "stdout",
     "output_type": "stream",
     "text": [
      "Entrez une séquence de mots séparés par des tirets : maramata-diop-gomycode-dakar\n",
      "dakar-diop-gomycode-maramata\n"
     ]
    }
   ],
   "source": [
    "entree = input(\"Entrez une séquence de mots séparés par des tirets : \")\n",
    "mots = entree.split(\"-\")\n",
    "mots_tries = sorted(mots)\n",
    "sortie = \"-\".join(mots_tries)\n",
    "print(sortie)"
   ]
  },
  {
   "cell_type": "markdown",
   "id": "ec8e8fb6",
   "metadata": {},
   "source": [
    "# QUESTION7"
   ]
  },
  {
   "cell_type": "code",
   "execution_count": null,
   "id": "8ec0e1bb",
   "metadata": {},
   "outputs": [],
   "source": []
  }
 ],
 "metadata": {
  "kernelspec": {
   "display_name": "Python 3 (ipykernel)",
   "language": "python",
   "name": "python3"
  },
  "language_info": {
   "codemirror_mode": {
    "name": "ipython",
    "version": 3
   },
   "file_extension": ".py",
   "mimetype": "text/x-python",
   "name": "python",
   "nbconvert_exporter": "python",
   "pygments_lexer": "ipython3",
   "version": "3.9.13"
  }
 },
 "nbformat": 4,
 "nbformat_minor": 5
}
